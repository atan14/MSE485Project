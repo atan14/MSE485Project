{
 "cells": [
  {
   "cell_type": "code",
   "execution_count": 15,
   "metadata": {},
   "outputs": [],
   "source": [
    "from operator import add, sub\n",
    "import numpy as np"
   ]
  },
  {
   "cell_type": "code",
   "execution_count": 23,
   "metadata": {},
   "outputs": [],
   "source": [
    "basis_points = [[0.0, 0.0, 0.0],  # 0\n",
    "                    [0.5, 0.5, 0.5],  # 1\n",
    "                    [0.25, 0.75, 0.75],  # 2\n",
    "                    [0.25, 0.25, 0.75],  # 3\n",
    "                    [0.5, 0.0, 0.5],  # 4\n",
    "                    [0.25, 0.75, 0.25],  # 5\n",
    "                    [0.0, 0.5, 0.5],  # 6\n",
    "                    [0.75, 0.75, 0.75],  # 7\n",
    "                    [0.5, 0.5, 0.0],  # 8\n",
    "                    [0.75, 0.25, 0.25],  # 9\n",
    "                    [0.75, 0.25, 0.75],  # 10\n",
    "                    [0.0, 0.0, 0.5],  # 11\n",
    "                    [0.75, 0.75, 0.25],  # 12\n",
    "                    [0.5, 0.0, 0.0],  # 13\n",
    "                    [0.25, 0.25, 0.25],  # 14\n",
    "                    [0.0, 0.5, 0.0]]  # 15"
   ]
  },
  {
   "cell_type": "code",
   "execution_count": 27,
   "metadata": {},
   "outputs": [],
   "source": [
    "interstitial = [basis for i, basis in enumerate(basis_points) if i%2==1]\n",
    "substitutional = [basis for i, basis in enumerate(basis_points) if i%2==0]"
   ]
  },
  {
   "cell_type": "markdown",
   "metadata": {},
   "source": [
    "Going from interstitial to substitutional site"
   ]
  },
  {
   "cell_type": "code",
   "execution_count": 58,
   "metadata": {
    "scrolled": false
   },
   "outputs": [
    {
     "name": "stdout",
     "output_type": "stream",
     "text": [
      "1 [0.5, 0.5, 0.5]\n",
      "2 0.4330127018922193 [ 0.25 -0.25 -0.25] [0.25, 0.75, 0.75]\n",
      "10 0.4330127018922193 [-0.25  0.25 -0.25] [0.75, 0.25, 0.75]\n",
      "12 0.4330127018922193 [-0.25 -0.25  0.25] [0.75, 0.75, 0.25]\n",
      "14 0.4330127018922193 [0.25 0.25 0.25] [0.25, 0.25, 0.25]\n",
      "\n",
      "3 [0.25, 0.25, 0.75]\n",
      "4 0.4330127018922193 [-0.25  0.25  0.25] [0.5, 0.0, 0.5]\n",
      "6 0.4330127018922193 [ 0.25 -0.25  0.25] [0.0, 0.5, 0.5]\n",
      "\n",
      "5 [0.25, 0.75, 0.25]\n",
      "6 0.4330127018922193 [ 0.25  0.25 -0.25] [0.0, 0.5, 0.5]\n",
      "8 0.4330127018922193 [-0.25  0.25  0.25] [0.5, 0.5, 0.0]\n",
      "\n",
      "7 [0.75, 0.75, 0.75]\n",
      "\n",
      "9 [0.75, 0.25, 0.25]\n",
      "4 0.4330127018922193 [ 0.25  0.25 -0.25] [0.5, 0.0, 0.5]\n",
      "8 0.4330127018922193 [ 0.25 -0.25  0.25] [0.5, 0.5, 0.0]\n",
      "\n",
      "11 [0.0, 0.0, 0.5]\n",
      "14 0.4330127018922193 [-0.25 -0.25  0.25] [0.25, 0.25, 0.25]\n",
      "\n",
      "13 [0.5, 0.0, 0.0]\n",
      "14 0.4330127018922193 [ 0.25 -0.25 -0.25] [0.25, 0.25, 0.25]\n",
      "\n",
      "15 [0.0, 0.5, 0.0]\n",
      "14 0.4330127018922193 [-0.25  0.25 -0.25] [0.25, 0.25, 0.25]\n",
      "\n"
     ]
    }
   ],
   "source": [
    "for i, basis_int in enumerate(interstitial):\n",
    "    print (i*2+1, basis_int)\n",
    "    for idx, basis_sub in enumerate(basis_points):\n",
    "        if idx%2==0: # to get substitutional site only\n",
    "            disp = list(map(sub, basis_int, basis_sub))\n",
    "            disp = np.array(disp)\n",
    "            if np.linalg.norm(disp, 2) == 0.4330127018922193:\n",
    "                print (idx, np.linalg.norm(disp, 2), disp, basis_sub)\n",
    "    print ()"
   ]
  },
  {
   "cell_type": "markdown",
   "metadata": {},
   "source": [
    "Going from substitutional to interstitial jump"
   ]
  },
  {
   "cell_type": "code",
   "execution_count": 60,
   "metadata": {},
   "outputs": [
    {
     "name": "stdout",
     "output_type": "stream",
     "text": [
      "0 [0.0, 0.0, 0.0]\n",
      "\n",
      "2 [0.25, 0.75, 0.75]\n",
      "1 0.4330127018922193 [ 0.25 -0.25 -0.25] [0.5, 0.5, 0.5]\n",
      "\n",
      "4 [0.5, 0.0, 0.5]\n",
      "3 0.4330127018922193 [-0.25  0.25  0.25] [0.25, 0.25, 0.75]\n",
      "9 0.4330127018922193 [ 0.25  0.25 -0.25] [0.75, 0.25, 0.25]\n",
      "\n",
      "6 [0.0, 0.5, 0.5]\n",
      "3 0.4330127018922193 [ 0.25 -0.25  0.25] [0.25, 0.25, 0.75]\n",
      "5 0.4330127018922193 [ 0.25  0.25 -0.25] [0.25, 0.75, 0.25]\n",
      "\n",
      "8 [0.5, 0.5, 0.0]\n",
      "5 0.4330127018922193 [-0.25  0.25  0.25] [0.25, 0.75, 0.25]\n",
      "9 0.4330127018922193 [ 0.25 -0.25  0.25] [0.75, 0.25, 0.25]\n",
      "\n",
      "10 [0.75, 0.25, 0.75]\n",
      "1 0.4330127018922193 [-0.25  0.25 -0.25] [0.5, 0.5, 0.5]\n",
      "\n",
      "12 [0.75, 0.75, 0.25]\n",
      "1 0.4330127018922193 [-0.25 -0.25  0.25] [0.5, 0.5, 0.5]\n",
      "\n",
      "14 [0.25, 0.25, 0.25]\n",
      "1 0.4330127018922193 [0.25 0.25 0.25] [0.5, 0.5, 0.5]\n",
      "11 0.4330127018922193 [-0.25 -0.25  0.25] [0.0, 0.0, 0.5]\n",
      "13 0.4330127018922193 [ 0.25 -0.25 -0.25] [0.5, 0.0, 0.0]\n",
      "15 0.4330127018922193 [-0.25  0.25 -0.25] [0.0, 0.5, 0.0]\n",
      "\n"
     ]
    }
   ],
   "source": [
    "for i, basis_sub in enumerate(substitutional):\n",
    "    print (i*2, basis_sub)\n",
    "    for idx, basis_int in enumerate(basis_points):\n",
    "        if idx%2==1: # to get substitutional site only\n",
    "            disp = list(map(sub, basis_int, basis_sub))\n",
    "            disp = np.array(disp)\n",
    "            if np.linalg.norm(disp, 2) == 0.4330127018922193:\n",
    "                print (idx, np.linalg.norm(disp, 2), disp, basis_int)\n",
    "    print ()"
   ]
  },
  {
   "cell_type": "code",
   "execution_count": 63,
   "metadata": {},
   "outputs": [],
   "source": [
    "def combined_near_jump(elements_before, elements_after, rate_constant, start_from_interstitial=True):\n",
    "    from operator import add, sub, mod\n",
    "    from KMCLib import KMCProcess\n",
    "    \n",
    "    basis_points = [[0.0, 0.0, 0.0], #0\n",
    "                [0.5, 0.5, 0.5], #1\n",
    "                [0.25, 0.75, 0.75], #2\n",
    "                [0.25, 0.25, 0.75],#3\n",
    "                [0.5, 0.0, 0.5],#4\n",
    "                [0.25, 0.75, 0.25],#5\n",
    "                [0.0, 0.5, 0.5],#6\n",
    "                [0.75, 0.75, 0.75],#7\n",
    "                [0.5, 0.5, 0.0], #8\n",
    "                [0.75, 0.25, 0.25],#9\n",
    "                [0.75, 0.25, 0.75],#10\n",
    "                [0.0, 0.0, 0.5],#11\n",
    "                [0.75, 0.75, 0.25], #12\n",
    "                [0.5, 0.0, 0.0], #13\n",
    "                [0.25, 0.25, 0.25], #14\n",
    "                [0.0, 0.5, 0.0]] #15\n",
    "    direction1 = [[0.25, 0.25, 0.25],\n",
    "                 [-0.25, -0.25, 0.25],\n",
    "                 [-0.25, 0.25, -0.25],\n",
    "                 [0.25, -0.25, -0.25]]\n",
    "    direction2 = [[-0.25, -0.25, -0.25],\n",
    "                 [-0.25, 0.25, 0.25],\n",
    "                 [0.25, -0.25, 0.25],\n",
    "                 [0.25, 0.25, -0.25]]\n",
    "    \n",
    "    if start_from_interstitial:\n",
    "        basis_dir2 = [basis_points[1], basis_points[11], basis_points[13], basis_points[15]]\n",
    "        basis_dir1 = [basis_points[3], basis_points[5], basis_points[7], basis_points[9]]\n",
    "    else:\n",
    "        basis_dir2 = [basis_points[0], basis_points[4], basis_points[6], basis_points[8]]\n",
    "        basis_dir1 = [basis_points[2], basis_points[10], basis_points[12], basis_points[14]]\n",
    "    \n",
    "    processes = []\n",
    "    for basis_idx, basis in enumerate(basis_points):\n",
    "        if basis in basis_dir1:\n",
    "            for direction in direction1:\n",
    "                jump1 = list(map(add, basis, direction))\n",
    "                coordinates = [basis, jump1]\n",
    "                processes.append(KMCProcess(coordinates=coordinates,\n",
    "                                 elements_before=elements_before,\n",
    "                                 elements_after=elements_after,\n",
    "                                 basis_sites=[basis_idx],\n",
    "                                 rate_constant=rate_constant) )\n",
    "        elif basis in basis_dir2:\n",
    "            for direction in direction2:\n",
    "                jump1 = list(map(add, basis, direction))\n",
    "                coordinates = [basis, jump1]\n",
    "                processes.append( KMCProcess(coordinates=coordinates,\n",
    "                                 elements_before=elements_before,\n",
    "                                 elements_after=elements_after,\n",
    "                                 basis_sites=[basis_idx],\n",
    "                                 rate_constant=rate_constant))\n",
    "    return processes"
   ]
  },
  {
   "cell_type": "code",
   "execution_count": 62,
   "metadata": {},
   "outputs": [
    {
     "name": "stdout",
     "output_type": "stream",
     "text": [
      "0 [[0.0, 0.0, 0.0], [-0.25, -0.25, -0.25]]\n",
      "0 [[0.0, 0.0, 0.0], [-0.25, 0.25, 0.25]]\n",
      "0 [[0.0, 0.0, 0.0], [0.25, -0.25, 0.25]]\n",
      "0 [[0.0, 0.0, 0.0], [0.25, 0.25, -0.25]]\n",
      "2 [[0.25, 0.75, 0.75], [0.5, 1.0, 1.0]]\n",
      "2 [[0.25, 0.75, 0.75], [0.0, 0.5, 1.0]]\n",
      "2 [[0.25, 0.75, 0.75], [0.0, 1.0, 0.5]]\n",
      "2 [[0.25, 0.75, 0.75], [0.5, 0.5, 0.5]]\n",
      "4 [[0.5, 0.0, 0.5], [0.25, -0.25, 0.25]]\n",
      "4 [[0.5, 0.0, 0.5], [0.25, 0.25, 0.75]]\n",
      "4 [[0.5, 0.0, 0.5], [0.75, -0.25, 0.75]]\n",
      "4 [[0.5, 0.0, 0.5], [0.75, 0.25, 0.25]]\n",
      "6 [[0.0, 0.5, 0.5], [-0.25, 0.25, 0.25]]\n",
      "6 [[0.0, 0.5, 0.5], [-0.25, 0.75, 0.75]]\n",
      "6 [[0.0, 0.5, 0.5], [0.25, 0.25, 0.75]]\n",
      "6 [[0.0, 0.5, 0.5], [0.25, 0.75, 0.25]]\n",
      "8 [[0.5, 0.5, 0.0], [0.25, 0.25, -0.25]]\n",
      "8 [[0.5, 0.5, 0.0], [0.25, 0.75, 0.25]]\n",
      "8 [[0.5, 0.5, 0.0], [0.75, 0.25, 0.25]]\n",
      "8 [[0.5, 0.5, 0.0], [0.75, 0.75, -0.25]]\n",
      "10 [[0.75, 0.25, 0.75], [1.0, 0.5, 1.0]]\n",
      "10 [[0.75, 0.25, 0.75], [0.5, 0.0, 1.0]]\n",
      "10 [[0.75, 0.25, 0.75], [0.5, 0.5, 0.5]]\n",
      "10 [[0.75, 0.25, 0.75], [1.0, 0.0, 0.5]]\n",
      "12 [[0.75, 0.75, 0.25], [1.0, 1.0, 0.5]]\n",
      "12 [[0.75, 0.75, 0.25], [0.5, 0.5, 0.5]]\n",
      "12 [[0.75, 0.75, 0.25], [0.5, 1.0, 0.0]]\n",
      "12 [[0.75, 0.75, 0.25], [1.0, 0.5, 0.0]]\n",
      "14 [[0.25, 0.25, 0.25], [0.5, 0.5, 0.5]]\n",
      "14 [[0.25, 0.25, 0.25], [0.0, 0.0, 0.5]]\n",
      "14 [[0.25, 0.25, 0.25], [0.0, 0.5, 0.0]]\n",
      "14 [[0.25, 0.25, 0.25], [0.5, 0.0, 0.0]]\n"
     ]
    },
    {
     "data": {
      "text/plain": [
       "[]"
      ]
     },
     "execution_count": 62,
     "metadata": {},
     "output_type": "execute_result"
    }
   ],
   "source": [
    "combined_near_jump(False)"
   ]
  },
  {
   "cell_type": "code",
   "execution_count": 67,
   "metadata": {},
   "outputs": [
    {
     "name": "stdout",
     "output_type": "stream",
     "text": [
      "22\n",
      "0\n",
      "22\n",
      "18\n",
      "24\n",
      "12\n",
      "2\n",
      "6\n",
      "8\n",
      "2\n"
     ]
    }
   ],
   "source": [
    "import random\n",
    "for i in range(10):\n",
    "    print (random.randint(0, int(24/2))*2)"
   ]
  },
  {
   "cell_type": "code",
   "execution_count": null,
   "metadata": {},
   "outputs": [],
   "source": []
  }
 ],
 "metadata": {
  "kernelspec": {
   "display_name": "Python 3",
   "language": "python",
   "name": "python3"
  },
  "language_info": {
   "codemirror_mode": {
    "name": "ipython",
    "version": 3
   },
   "file_extension": ".py",
   "mimetype": "text/x-python",
   "name": "python",
   "nbconvert_exporter": "python",
   "pygments_lexer": "ipython3",
   "version": "3.6.6"
  }
 },
 "nbformat": 4,
 "nbformat_minor": 2
}
